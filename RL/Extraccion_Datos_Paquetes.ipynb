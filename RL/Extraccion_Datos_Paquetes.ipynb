{
 "cells": [
  {
   "cell_type": "code",
   "execution_count": 2,
   "metadata": {},
   "outputs": [],
   "source": [
    "import os\n",
    "\n",
    "import pandas as pd\n",
    "from pandas import DataFrame, Series"
   ]
  },
  {
   "cell_type": "code",
   "execution_count": null,
   "metadata": {},
   "outputs": [
    {
     "data": {
      "text/html": [
       "<div>\n",
       "<style scoped>\n",
       "    .dataframe tbody tr th:only-of-type {\n",
       "        vertical-align: middle;\n",
       "    }\n",
       "\n",
       "    .dataframe tbody tr th {\n",
       "        vertical-align: top;\n",
       "    }\n",
       "\n",
       "    .dataframe thead th {\n",
       "        text-align: right;\n",
       "    }\n",
       "</style>\n",
       "<table border=\"1\" class=\"dataframe\">\n",
       "  <thead>\n",
       "    <tr style=\"text-align: right;\">\n",
       "      <th></th>\n",
       "      <th>prefix</th>\n",
       "      <th>filenames</th>\n",
       "    </tr>\n",
       "  </thead>\n",
       "  <tbody>\n",
       "    <tr>\n",
       "      <th>0</th>\n",
       "      <td>flows_aggregated_BenignTraffic</td>\n",
       "      <td>[flows_aggregated_BenignTraffic_0.csv, flows_a...</td>\n",
       "    </tr>\n",
       "    <tr>\n",
       "      <th>1</th>\n",
       "      <td>flows_aggregated_DDoS-HTTP_Flood</td>\n",
       "      <td>[flows_aggregated_DDoS-HTTP_Flood.csv]</td>\n",
       "    </tr>\n",
       "    <tr>\n",
       "      <th>2</th>\n",
       "      <td>flows_aggregated_DDoS-SYN</td>\n",
       "      <td>[flows_aggregated_DDoS-SYN_0.csv, flows_aggreg...</td>\n",
       "    </tr>\n",
       "    <tr>\n",
       "      <th>3</th>\n",
       "      <td>flows_aggregated_DoS-TCP_Flood</td>\n",
       "      <td>[flows_aggregated_DoS-TCP_Flood_0.csv, flows_a...</td>\n",
       "    </tr>\n",
       "    <tr>\n",
       "      <th>4</th>\n",
       "      <td>flows_aggregated_Recon-OSScan</td>\n",
       "      <td>[flows_aggregated_Recon-OSScan.csv]</td>\n",
       "    </tr>\n",
       "    <tr>\n",
       "      <th>5</th>\n",
       "      <td>flows_aggregated_Recon_PortScan</td>\n",
       "      <td>[flows_aggregated_Recon_PortScan.csv]</td>\n",
       "    </tr>\n",
       "  </tbody>\n",
       "</table>\n",
       "</div>"
      ],
      "text/plain": [
       "                             prefix  \\\n",
       "0    flows_aggregated_BenignTraffic   \n",
       "1  flows_aggregated_DDoS-HTTP_Flood   \n",
       "2         flows_aggregated_DDoS-SYN   \n",
       "3    flows_aggregated_DoS-TCP_Flood   \n",
       "4     flows_aggregated_Recon-OSScan   \n",
       "5   flows_aggregated_Recon_PortScan   \n",
       "\n",
       "                                           filenames  \n",
       "0  [flows_aggregated_BenignTraffic_0.csv, flows_a...  \n",
       "1             [flows_aggregated_DDoS-HTTP_Flood.csv]  \n",
       "2  [flows_aggregated_DDoS-SYN_0.csv, flows_aggreg...  \n",
       "3  [flows_aggregated_DoS-TCP_Flood_0.csv, flows_a...  \n",
       "4                [flows_aggregated_Recon-OSScan.csv]  \n",
       "5              [flows_aggregated_Recon_PortScan.csv]  "
      ]
     },
     "execution_count": 3,
     "metadata": {},
     "output_type": "execute_result"
    }
   ],
   "source": [
    "\n",
    "\n",
    "CARPETA = r'C:\\Users\\cesar\\OneDrive - Universidad de Burgos\\TFG\\Repo\\CIC_IOT-20250124T124300Z-001\\CIC_IOT'\n",
    "\n",
    "# Listar los archivos de la carpeta\n",
    "df = DataFrame(os.listdir(CARPETA), columns=['filenames'])\n",
    "\n",
    "def obtener_prefijo(titulo:str)->str:\n",
    "    tiene_num=titulo.rsplit('_',1)[-1].removesuffix('.csv').isnumeric()\n",
    "    if(tiene_num):\n",
    "        return titulo.rsplit('_',1)[0]\n",
    "    return titulo.rsplit('.',1)[0] # Quitar solo la extension si no tiene numero\n",
    "\n",
    "df['prefix'] = df['filenames'].apply(obtener_prefijo)\n",
    "# Agrupar los archivos por tipo de ataque\n",
    "df_grouped: DataFrame = df.groupby(\n",
    "    'prefix')['filenames'].apply(list).reset_index()\n",
    "\n",
    "df_grouped"
   ]
  },
  {
   "cell_type": "code",
   "execution_count": 4,
   "metadata": {},
   "outputs": [
    {
     "name": "stdout",
     "output_type": "stream",
     "text": [
      "Archivos utilizados:  ['flows_aggregated_DoS-TCP_Flood_0.csv', 'flows_aggregated_DoS-TCP_Flood_1.csv', 'flows_aggregated_DoS-TCP_Flood_2.csv', 'flows_aggregated_DoS-TCP_Flood_3.csv', 'flows_aggregated_DoS-TCP_Flood_4.csv', 'flows_aggregated_DoS-TCP_Flood_5.csv', 'flows_aggregated_DoS-TCP_Flood_6.csv', 'flows_aggregated_DoS-TCP_Flood_7.csv']\n",
      "Se envia una media de 10253.3 paquetes por segundo con un tamaño medio de 127.6 bytes\n",
      "Donde el 25% de los flujos envian 10134.4 paquetes por segundo y el 75% envian 10389.6 paquetes por segundo, mediana: 10267.4\n"
     ]
    }
   ],
   "source": [
    "def filter_filenames(df:DataFrame, text:str)->list[str]:\n",
    "    return df[df['prefix'].str.contains(text)]['filenames'].iloc[0]\n",
    "\n",
    "\n",
    "filtered_filenames: list[str] = filter_filenames(df_grouped, '_DoS')\n",
    "print(\"Archivos utilizados: \",filtered_filenames)\n",
    "\n",
    "tipo = '_5'\n",
    "tiempo_flujo = 30  # Flujos de 30 Segundos\n",
    "dfs: list[DataFrame] = [pd.read_csv(os.path.join(CARPETA, file),\n",
    "                                    sep=';', header=0, index_col=False,\n",
    "                                    usecols=lambda x: x.endswith(tipo) and\n",
    "                                    (x.startswith('num_flows') or x.startswith('packets_forward_mean') or\n",
    "                                     x.startswith('avg_pkt_size_mean') or x.startswith('packets_forward_median') or\n",
    "                                     x.startswith('packets_forward_q1') or x.startswith('packets_forward_q3')))\n",
    "                        for file in filtered_filenames]\n",
    "\n",
    "df_combined: DataFrame = pd.concat(dfs, ignore_index=True)\n",
    "\n",
    "flows_sec:Series = (df_combined['num_flows'+tipo]/tiempo_flujo)\n",
    "\n",
    "pack_sec: float = (df_combined['packets_forward_mean'+tipo]*flows_sec).mean()\n",
    "\n",
    "tam_paquetes_sec: float = (df_combined['avg_pkt_size_mean'+tipo]).mean()\n",
    "\n",
    "pack_sec_q1: float = (df_combined['packets_forward_q1'+tipo]*flows_sec).mean()\n",
    "pack_sec_q3: float = (df_combined['packets_forward_q3'+tipo]*flows_sec).mean()\n",
    "pack_sec_median: float = (df_combined['packets_forward_median'+tipo]*flows_sec).mean()\n",
    "\n",
    "print(f'Se envia una media de {pack_sec:.1f} paquetes por segundo con un tamaño medio de {tam_paquetes_sec:.1f} bytes')\n",
    "print(f\"Donde el 25% de los flujos envian {pack_sec_q1:.1f} paquetes por segundo y el 75% envian {pack_sec_q3:.1f} paquetes por segundo, mediana: {pack_sec_median:.1f}\")"
   ]
  },
  {
   "cell_type": "markdown",
   "metadata": {},
   "source": [
    "Benign: 59, 205, 5, 30, 12\n",
    "\n",
    "DDoS: 418, 180, 5, 77, 19"
   ]
  }
 ],
 "metadata": {
  "kernelspec": {
   "display_name": ".venv",
   "language": "python",
   "name": "python3"
  },
  "language_info": {
   "codemirror_mode": {
    "name": "ipython",
    "version": 3
   },
   "file_extension": ".py",
   "mimetype": "text/x-python",
   "name": "python",
   "nbconvert_exporter": "python",
   "pygments_lexer": "ipython3",
   "version": "3.12.6"
  }
 },
 "nbformat": 4,
 "nbformat_minor": 2
}
